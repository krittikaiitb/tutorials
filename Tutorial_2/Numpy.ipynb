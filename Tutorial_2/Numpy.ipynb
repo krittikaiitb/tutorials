{
 "cells": [
  {
   "cell_type": "markdown",
   "metadata": {},
   "source": [
    "# Introduction to NumPy"
   ]
  },
  {
   "cell_type": "markdown",
   "metadata": {},
   "source": [
    "In [Tutorial 1](https://github.com/krittikaiitb/tutorials/tree/master/Tutorial_1), you have seen list, tuple and dictionaries (and we hinted at sets). However, these are not particularly useful when you want to do numerical calculations, or matrix operations. You could try to write a for loop that would iterate through each element, however Python is very slow with operations like that. \n",
    "\n",
    "A better (more Pythonic) way is to use the package known as `numpy`. Numpy arrays are similar to lists and tuples etc. in that they hold multiple values. However, all elements in a numpy array must be of the same data type. \n",
    "\n",
    "Disregarding that small setback, however, we now have a lot more functionality in numpy arrays. It is convenient to think of the behaviour of numpy arrays as similar to a row vector."
   ]
  },
  {
   "cell_type": "code",
   "execution_count": null,
   "metadata": {},
   "outputs": [],
   "source": [
    "import numpy as np # This is how you can import packages in python. "
   ]
  },
  {
   "cell_type": "markdown",
   "metadata": {},
   "source": [
    "The above line imports the package numpy (which includes all the functions we will be using). The part `as np` renames it to `np` (just for this program, don't worry), which is slightly more convenient. "
   ]
  },
  {
   "cell_type": "markdown",
   "metadata": {},
   "source": [
    "Let us assign a numpy array to a variable x. "
   ]
  },
  {
   "cell_type": "code",
   "execution_count": null,
   "metadata": {},
   "outputs": [],
   "source": [
    "x=np.array([1,2,3,4]) # np.array converts any array-like object to a numpy array\n",
    "#x=[1,2,3,4]\n",
    "y=2*x\n",
    "print(\"{}\\n{}\".format(x,y))"
   ]
  },
  {
   "cell_type": "markdown",
   "metadata": {},
   "source": [
    "Try the above code with a normal list. Now, hopefully it is clear why `numpy` is powerful. But that is just the beginning!"
   ]
  },
  {
   "cell_type": "code",
   "execution_count": null,
   "metadata": {},
   "outputs": [],
   "source": [
    "x = np.arange(0,100, 1) # This is similar to the range function from earlier, except that it returns a numpy array\n",
    "print(x[[4,5,6,7,8,9,10]])"
   ]
  },
  {
   "cell_type": "markdown",
   "metadata": {},
   "source": [
    "Trying a similar trick with a list instead: (this should give an error!)"
   ]
  },
  {
   "cell_type": "code",
   "execution_count": null,
   "metadata": {},
   "outputs": [],
   "source": [
    "x = [1,2,3,4,5,6,7,8,9,10]\n",
    "print(x[[0,1,2]])"
   ]
  },
  {
   "cell_type": "markdown",
   "metadata": {},
   "source": [
    "So `numpy` also supports indexing with lists, instead of only integers or slices, whereas lists don't. "
   ]
  },
  {
   "cell_type": "markdown",
   "metadata": {},
   "source": [
    "Similar to the `len` function, numpy also has several functions to describe an array. These are also available as methods, which can be used as follows:"
   ]
  },
  {
   "cell_type": "code",
   "execution_count": null,
   "metadata": {},
   "outputs": [],
   "source": [
    "x=np.array([[1,2,3],[4,5,6],[7,8,9]])\n",
    "print(x)"
   ]
  },
  {
   "cell_type": "code",
   "execution_count": null,
   "metadata": {},
   "outputs": [],
   "source": [
    "print(x.ndim) # number of dimensions. This is a 2D array\n",
    "print(x.shape) # Shape of array\n",
    "print(x.size) # Total number of elements in array (product of elements in shape)"
   ]
  },
  {
   "cell_type": "markdown",
   "metadata": {},
   "source": [
    "Multiplication, like addition is element wise. If matrix multiplication is required, we can either convert it into a numpy matrix or use `np.dot()`"
   ]
  },
  {
   "cell_type": "code",
   "execution_count": null,
   "metadata": {},
   "outputs": [],
   "source": [
    "x*x"
   ]
  },
  {
   "cell_type": "code",
   "execution_count": null,
   "metadata": {},
   "outputs": [],
   "source": [
    "np.matrix(x)*np.matrix(x)"
   ]
  },
  {
   "cell_type": "code",
   "execution_count": null,
   "metadata": {},
   "outputs": [],
   "source": [
    "np.dot(x,x)"
   ]
  },
  {
   "cell_type": "markdown",
   "metadata": {},
   "source": [
    "Comparisons on numpy arrays are easier now"
   ]
  },
  {
   "cell_type": "code",
   "execution_count": null,
   "metadata": {},
   "outputs": [],
   "source": [
    "x>5"
   ]
  },
  {
   "cell_type": "markdown",
   "metadata": {},
   "source": [
    "We can also use conditional expressions like indices"
   ]
  },
  {
   "cell_type": "code",
   "execution_count": null,
   "metadata": {},
   "outputs": [],
   "source": [
    "y=np.copy(x) # Simply typing y=x doesnot make a new array, it just adds a reference to the old one.\n",
    "             # Changes in y will then be reflected in x\n",
    "y[y>5]=0\n",
    "y"
   ]
  },
  {
   "cell_type": "markdown",
   "metadata": {},
   "source": [
    "If we just want the indices where a certain condition is satisified, we can use `np.where()`. This is one of the more **important** functions, as we can use it to filter out data according to conditions. "
   ]
  },
  {
   "cell_type": "code",
   "execution_count": null,
   "metadata": {},
   "outputs": [],
   "source": [
    "x=np.array([0,1,2,3,4,5,6,7,0.5,0.6])\n",
    "indices=np.where(x<5)\n",
    "x[indices]"
   ]
  },
  {
   "cell_type": "markdown",
   "metadata": {},
   "source": [
    "We can also delete elements using `numpy.delete`. \n",
    "\n",
    "Note the array slicing. x is 2 dimensional, and requires 2 indices. `x[:, 0]` returns `np.array[1,4,7]`. Play around with different combinations to become comfortable with using indices, as well as `np.where`. \n",
    "\n",
    "Also note the argument of the function called `axis`. For a 2D array, `axis=0` is along the rows, and `axis=1` is along the columns. `np.where` assigns the index to be `(np.array([2]))`. Removing index 2 along the columns results in y. If you wanted to remove the row instead, then use `axis=0`. "
   ]
  },
  {
   "cell_type": "code",
   "execution_count": null,
   "metadata": {},
   "outputs": [],
   "source": [
    "x=np.array([[1,2,3],[4,5,6],[7,8,9]])\n",
    "index=np.where(x[:,0]>5)\n",
    "y=np.delete(x,index,axis=1)\n",
    "print(y)"
   ]
  },
  {
   "cell_type": "markdown",
   "metadata": {},
   "source": [
    "**Make sure you understand the part about indexing, slicing, and using `np.where` and `np.delete`, and are comfortable using it. Try out different arrays that you define yourself, of different dimensions and shapes, and experiment!!**"
   ]
  },
  {
   "cell_type": "markdown",
   "metadata": {},
   "source": [
    "Other useful functions in numpy like `numpy.arange`, `numpy.linspace` often come in handy. We have already seen `arange`"
   ]
  },
  {
   "cell_type": "code",
   "execution_count": null,
   "metadata": {},
   "outputs": [],
   "source": [
    "np.arange(0,1,0.1) # start(inclusive):stop(exclusive):step"
   ]
  },
  {
   "cell_type": "code",
   "execution_count": null,
   "metadata": {},
   "outputs": [],
   "source": [
    "np.linspace(0,1,5) #start:stop(inclusive):number of elements"
   ]
  },
  {
   "cell_type": "markdown",
   "metadata": {},
   "source": [
    "That is not even it. Several mathematical functions are also available:"
   ]
  },
  {
   "cell_type": "code",
   "execution_count": null,
   "metadata": {},
   "outputs": [],
   "source": [
    "x = np.arange(-np.pi, np.pi, 0.1)\n",
    "y = np.sin(x)\n",
    "x_abs = np.abs(x)"
   ]
  },
  {
   "cell_type": "code",
   "execution_count": null,
   "metadata": {},
   "outputs": [],
   "source": [
    "y2 = np.exp(x)"
   ]
  },
  {
   "cell_type": "markdown",
   "metadata": {},
   "source": [
    "If you thought `numpy` has revealed all its cards, it hasn't yet! <br>\n",
    "You can also find the mean, standard deviation, maximum, minimum of an array, sort an array, do matrix computations and so much more. \n",
    "\n",
    "If you feel right now that NumPy is vast, remember we have barely scratched the surface. In this module and the next is where your Googling skills will be put to the test. \n",
    "\n",
    "If you want to find the official docstrings for any function, an easy way to get it from Jupyter is to use `?`. For example"
   ]
  },
  {
   "cell_type": "code",
   "execution_count": null,
   "metadata": {},
   "outputs": [],
   "source": [
    "# Note that this is a very useful function, since we can use it to filter out data. \n",
    "np.where?"
   ]
  },
  {
   "cell_type": "markdown",
   "metadata": {},
   "source": [
    "As a final note, we will end the tutorial part of this notebook by introducing `np.loadtxt`, a function that can be used to load a txt file into a numpy array. (If you remember how difficult it was to import a text file using `open` and `.split()`, then you will appreciate this one!)"
   ]
  },
  {
   "cell_type": "code",
   "execution_count": null,
   "metadata": {},
   "outputs": [],
   "source": [
    "beehive_data = np.loadtxt('Beehive_data.csv', delimiter=',')"
   ]
  },
  {
   "cell_type": "markdown",
   "metadata": {},
   "source": [
    "Yes, that's it. "
   ]
  },
  {
   "cell_type": "markdown",
   "metadata": {},
   "source": [
    "### Your assignment ...\n",
    "... should you choose to accept it, will be the following:\n",
    "1. Re-do Tutorial 1 assignment with numpy. (This should be fairly easy, but use only numpy functions to reproduce your results)\n",
    "2. Use the data from `Beehive_data.csv` to find the distance to the Beehive Cluster. Read on ahead to find out more about the concepts in astronomy you will need to solve this\n",
    "\n",
    "Data downloaded from [VizieR](https://cdsarc.unistra.fr/viz-bin/cat/V/19), from data used in [Piskunov 1980](https://ui.adsabs.harvard.edu/?#abs/1980BICDS..19...67P)"
   ]
  },
  {
   "cell_type": "markdown",
   "metadata": {},
   "source": [
    "# Magnitudes in Astronomy"
   ]
  },
  {
   "cell_type": "markdown",
   "metadata": {},
   "source": [
    "Magnitudes are a way to describe how bright an object (in our case, a star) is. It is similar to the decibel system for sound in that magnitudes are logarithmic. They can be calculated according to the formula\n",
    "$$\\rm m = -2.5 \\log\\left(\\frac{F}{F_0}\\right)$$\n",
    "where F is the flux from the star (measured in W m$^2$), and F$_0$ is a reference flux.\n",
    "\n",
    "To read up more about magnitudes, hit up the [Wikipedia article on it](https://en.wikipedia.org/wiki/Magnitude_(astronomy)#History)"
   ]
  },
  {
   "cell_type": "markdown",
   "metadata": {},
   "source": [
    "Now, we can calculate the flux of a star at some distance d away as \n",
    "$$ F = \\frac{L}{4\\pi d^2} $$\n",
    "where L is the Luminosity of the star (measured in W). \n",
    "\n",
    "There are a lot of details we have skimmed over (for example, the use of filters) which we will visit again in more detail in `Tutorial 8: Image Reduction`."
   ]
  },
  {
   "cell_type": "markdown",
   "metadata": {},
   "source": [
    "As a final note on the data you have been given in `Beehive_data.csv`, the columns are respectively the apparent magnitude of the stars as seen from Earth, the logarithm of the Luminosity(in units of Luminosity of the Sun) of the stars (i.e. $\\log(L/L_\\odot)$, where $L_\\odot$ is the luminosity of the sun), and the probability that the star belongs to the Beehive Cluster.\n",
    "\n",
    "You must find the distance to the cluster (you are given that the absolute magnitude of the Sun is +4.83). You can do this in two ways:\n",
    "1. Exclude all the stars with low probability of belonging to the cluster, and then calculate distance for each star, and find the mean.\n",
    "2. Find the distance for all stars (including the low probability ones) and find the weighted average of the distances, where the weights are the probability."
   ]
  },
  {
   "cell_type": "markdown",
   "metadata": {},
   "source": [
    "Good Luck!"
   ]
  }
 ],
 "metadata": {
  "kernelspec": {
   "display_name": "Python 3",
   "language": "python",
   "name": "python3"
  },
  "language_info": {
   "codemirror_mode": {
    "name": "ipython",
    "version": 3
   },
   "file_extension": ".py",
   "mimetype": "text/x-python",
   "name": "python",
   "nbconvert_exporter": "python",
   "pygments_lexer": "ipython3",
   "version": "3.6.9"
  }
 },
 "nbformat": 4,
 "nbformat_minor": 4
}
