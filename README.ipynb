{
 "cells": [
  {
   "cell_type": "markdown",
   "metadata": {},
   "source": [
    "# Tutorials\n",
    "Set of Jupyter Notebooks, along with datafiles, to get started with Scientific Computing in Astronomy  \n",
    "\n",
    "***\n",
    "\n",
    "## [How to setup Jupyter notebooks](./Jupyter%20Setup/README.md#Jupyter-Setup )\n",
    "\n",
    "1. ### [Windows](./Jupyter%20Setup/README.md#Windows )\n",
    "2. ### [MacOS](./Jupyter%20Setup/README.md#MacOS )\n",
    "3. ### [Linux distribution (includes Ubuntu)](./Jupyter%20Setup/README.md#Linux-distribution-includes-Ubuntu )\n",
    "    1. #### [Installing Jupyter - Using Conda or Miniconda](./Jupyter%20Setup/README.md#Installing-Jupyter---Using-Conda-or-Miniconda )\n",
    "    2. #### [Installing Jupyter - Using python-pip (Try this only if you are comfortable with terminal)](./Jupyter%20Setup/README.md#Installing-Jupyter---Using-python-pip-Try-this-only-if-you-are-comfortable-with-terminal )\n",
    "\n",
    "***\n",
    "\n",
    "## [How to use Jupyter notebooks](./How%20to%20use%20Jupyter%20Notebooks/README.md#Using-Jupyter-notebooks )\n",
    "\n",
    "1. ### [Opening the Notebooks](./How%20to%20use%20Jupyter%20Notebooks/README.md#Opening-the-Notebook )\n",
    "2. ### [Jupyter Notebook Dashboard](./How%20to%20use%20Jupyter%20Notebooks/README.md#Jupyter-Notebook-Dashboard )\n",
    "3. ### [Creating a new notebook document](./How%20to%20use%20Jupyter%20Notebooks/README.md#Creating-a-new-notebook-document )\n",
    "4. ### [Overview of the Notebook UI](./How%20to%20use%20Jupyter%20Notebooks/README.md#Overview-of-the-Notebook-UI )\n",
    "5. ### [Cell types](./How%20to%20use%20Jupyter%20Notebooks/README.md#Cell-types )\n",
    "6. ### [Modal Editor](./How%20to%20use%20Jupyter%20Notebooks/README.md#Modal-Editor )\n",
    "    1. #### [Edit Mode](./How%20to%20use%20Jupyter%20Notebooks/README.md#Edit-Mode )\n",
    "    2. #### [Command Mode](./How%20to%20use%20Jupyter%20Notebooks/README.md#Command-Mode )\n",
    "    3. #### [Running Code](./How%20to%20use%20Jupyter%20Notebooks/README.md#Running-Code )\n",
    "    4. #### [Keyboard Navigation](./How%20to%20use%20Jupyter%20Notebooks/README.md#Keyboard-Navigation )\n",
    "    5. #### [Mouse Navigation](./How%20to%20use%20Jupyter%20Notebooks/README.md#Mouse-Navigation )\n",
    "    6. #### [Cheat Sheet](./How%20to%20use%20Jupyter%20Notebooks/README.md#Cheat-Sheet-for-Menu-Bar-and-Tool-Bar )\n",
    "\n",
    "***\n",
    "\n",
    "## [Tutorial 1](./Tutorial_1 )\n",
    "\n",
    "***\n"
   ]
  }
 ],
 "metadata": {
  "kernelspec": {
   "display_name": "Python 3",
   "language": "python",
   "name": "python3"
  },
  "language_info": {
   "codemirror_mode": {
    "name": "ipython",
    "version": 3
   },
   "file_extension": ".py",
   "mimetype": "text/x-python",
   "name": "python",
   "nbconvert_exporter": "python",
   "pygments_lexer": "ipython3",
   "version": "3.8.2"
  }
 },
 "nbformat": 4,
 "nbformat_minor": 4
}
